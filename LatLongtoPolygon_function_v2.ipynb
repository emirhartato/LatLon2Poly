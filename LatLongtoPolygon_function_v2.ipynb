{
 "cells": [
  {
   "cell_type": "code",
   "execution_count": null,
   "metadata": {},
   "outputs": [],
   "source": [
    "import pandas as pd\n",
    "import matplotlib.pyplot as plt\n",
    "import descartes\n",
    "import geopandas as gpd\n",
    "from geopandas import GeoDataFrame\n",
    "from shapely.geometry import Point, Polygon, mapping, shape\n",
    "import shapely.wkt\n",
    "from shapely.ops import cascaded_union\n",
    "from pyproj import Proj, transform\n",
    "import json\n"
   ]
  },
  {
   "cell_type": "code",
   "execution_count": null,
   "metadata": {},
   "outputs": [],
   "source": [
    "from shapely.geometry import LineString, Polygon\n",
    "\n",
    "EPSG_4326 = Proj(init='EPSG:4326')\n",
    "DEFAULT_EXPANSION_SIZE = 5000  # Meters\n",
    "\n",
    "\n",
    "def flatten(geometries):\n",
    "    combined = geometries.pop() if geometries else None\n",
    "    for geo in geometries:\n",
    "        combined = combined.union(geo)\n",
    "    return combined\n",
    "\n",
    "\n",
    "def expand_into_polygon(geometry, size=DEFAULT_EXPANSION_SIZE):\n",
    "    if geometry.geom_type == 'Point':\n",
    "        coords = _square_of_size(size)\n",
    "        point = geometry\n",
    "    elif geometry.geom_type == 'LineString':\n",
    "        coords = _line_to_strip(geometry, size)\n",
    "        point = geometry.centroid\n",
    "    else:\n",
    "        raise TypeError('Only geometries of type Point or LineString can expand into a Polygon.')\n",
    "    coords = _local_to_global_coords(coords, point.y, point.x)\n",
    "    return Polygon(coords)\n",
    "\n",
    "\n",
    "def _square_of_size(size):\n",
    "    half = int(size / 2)\n",
    "    return [(-half, -half), (half, -half), (half, half), (-half, half), (-half, -half)]\n",
    "\n",
    "\n",
    "def _line_to_strip(line, size):\n",
    "    coords = global_to_local_coords(line.coords, line.centroid.y, line.centroid.x)\n",
    "    laea_line = LineString(coords)\n",
    "    x1, y1 = laea_line.coords[0]\n",
    "    x2, y2 = laea_line.coords[1]\n",
    "    angle_r = atan2(y2 - y1, x2 - x1)\n",
    "    return _make_strip(angle_r, laea_line.length, size=size)\n",
    "\n",
    "\n",
    "def _make_strip(angle_r, length, size):\n",
    "    half_size = int(size / 2)\n",
    "    half_length = (length - size) / 2\n",
    "    cos_val = cos(angle_r)\n",
    "    sin_val = sin(angle_r)\n",
    "    coords = [(-half_size - half_length, -half_size), (half_size + half_length, -half_size),\n",
    "              (half_size + half_length, half_size), (-half_size - half_length, half_size)]\n",
    "    return list(map(lambda c: (c[0] * cos_val - c[1] * sin_val, c[0] * sin_val + c[1] * cos_val), coords))\n",
    "\n",
    "\n",
    "def _laea_projection(anchor_lat, anchor_long):\n",
    "    return Proj(f'+proj=laea +lat_0={anchor_lat} +lon_0={anchor_long} +ellps=WGS84 +units=m +no_defs')\n",
    "\n",
    "\n",
    "def _local_to_global_coords(coords, anchor_lat, anchor_long):\n",
    "    laea_proj = _laea_projection(anchor_lat, anchor_long)\n",
    "    return [transform(laea_proj, EPSG_4326, y, x) for y, x in coords]\n",
    "\n",
    "\n",
    "def global_to_local_coords(coords, anchor_lat, anchor_long):\n",
    "    laea_proj = _laea_projection(anchor_lat, anchor_long)\n",
    "    return [transform(EPSG_4326, laea_proj, y, x) for y, x in coords]"
   ]
  },
  {
   "cell_type": "code",
   "execution_count": null,
   "metadata": {},
   "outputs": [],
   "source": [
    "df = pd.read_csv('coordinates.csv')\n",
    "crs = {'init': 'epsg:4326'}\n",
    "df.head()\n",
    "\n",
    "## This code accepts your CSV provided it is constructed with latitude and longitude column"
   ]
  },
  {
   "cell_type": "code",
   "execution_count": null,
   "metadata": {},
   "outputs": [],
   "source": [
    "geometry = [Point(xy) for xy in zip( df[\"Longitude\"], df[\"Latitude\"])]\n",
    "geometry[0:]\n",
    "gdf = GeoDataFrame(df, geometry = geometry)\n",
    "#gdf.plot()\n",
    "gdf['square'] = gpd.GeoSeries(gdf.geometry.apply(expand_into_polygon))\n",
    "gdf['square_geojson'] = gdf['square'].apply(mapping)"
   ]
  },
  {
   "cell_type": "code",
   "execution_count": null,
   "metadata": {},
   "outputs": [],
   "source": [
    "polygons = gdf['square']\n",
    "\n",
    "print(polygons)\n"
   ]
  },
  {
   "cell_type": "code",
   "execution_count": null,
   "metadata": {},
   "outputs": [],
   "source": [
    "world = gpd.read_file(gpd.datasets.get_path('naturalearth_lowres'))\n",
    "gdf.plot(ax=world.plot(figsize=(20, 10)), marker='o', color='red' , markersize=10)\n",
    "## This code here will display your latitude and longitude on a world map"
   ]
  },
  {
   "cell_type": "code",
   "execution_count": null,
   "metadata": {},
   "outputs": [],
   "source": [
    "MultiPoly = cascaded_union(polygons)\n",
    "geom = shapely.geometry.mapping(MultiPoly)\n",
    "json.dumps(geom)\n"
   ]
  },
  {
   "cell_type": "code",
   "execution_count": null,
   "metadata": {},
   "outputs": [],
   "source": []
  }
 ],
 "metadata": {
  "kernelspec": {
   "display_name": "Python 3",
   "language": "python",
   "name": "python3"
  },
  "language_info": {
   "codemirror_mode": {
    "name": "ipython",
    "version": 3
   },
   "file_extension": ".py",
   "mimetype": "text/x-python",
   "name": "python",
   "nbconvert_exporter": "python",
   "pygments_lexer": "ipython3",
   "version": "3.6.7"
  }
 },
 "nbformat": 4,
 "nbformat_minor": 2
}
